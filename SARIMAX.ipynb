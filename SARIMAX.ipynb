{
 "cells": [
  {
   "cell_type": "code",
   "execution_count": null,
   "metadata": {},
   "outputs": [],
   "source": [
    "import pmdarima as pm\n",
    "import statsmodels.api as sm\n",
    "import pandas as pd\n",
    "import numpy as np\n",
    "import matplotlib.pyplot as plt\n",
    "from sklearn.metrics import mean_absolute_error, mean_squared_error\n",
    "\n",
    "# This function will search for a good set of parameters.\n",
    "auto_model = pm.auto_arima(df['Total (grid load) [MWh]'], seasonal=True, m=7,\n",
    "                           trace=True, error_action='ignore', suppress_warnings=True)\n",
    "print(auto_model.summary())\n"
   ]
  },
  {
   "cell_type": "code",
   "execution_count": null,
   "metadata": {},
   "outputs": [],
   "source": [
    "# 80% training, 20% testing split\n",
    "split_index = int(len(df) * 0.8)\n",
    "train = df.iloc[:split_index]\n",
    "test = df.iloc[split_index:]\n"
   ]
  },
  {
   "cell_type": "code",
   "execution_count": null,
   "metadata": {},
   "outputs": [],
   "source": [
    "# Fit the model\n",
    "# For example, using SARIMAX with order (p,d,q)=(1,1,1) and seasonal order (P,D,Q,s)=(1,1,1,7)\n",
    "model = sm.tsa.statespace.SARIMAX(train['Total (grid load) [MWh]'],\n",
    "                                  order=(1,1,1),\n",
    "                                  seasonal_order=(1,1,1,7),\n",
    "                                  enforce_stationarity=False,\n",
    "                                  enforce_invertibility=False)\n",
    "model_fit = model.fit(disp=False)\n",
    "print(model_fit.summary())\n"
   ]
  },
  {
   "cell_type": "code",
   "execution_count": null,
   "metadata": {},
   "outputs": [],
   "source": [
    "model_fit.plot_diagnostics(figsize=(15, 8))\n",
    "plt.show()\n"
   ]
  },
  {
   "cell_type": "code",
   "execution_count": null,
   "metadata": {},
   "outputs": [],
   "source": [
    "# Forecast steps equal to the length of the test set\n",
    "forecast = model_fit.get_forecast(steps=len(test))\n",
    "predictions = forecast.predicted_mean\n",
    "conf_int = forecast.conf_int()\n",
    "\n",
    "plt.figure(figsize=(12,6))\n",
    "plt.plot(train.index, train['Total (grid load) [MWh]'], label='Training')\n",
    "plt.plot(test.index, test['Total (grid load) [MWh]'], label='Test')\n",
    "plt.plot(test.index, predictions, label='Forecast', color='red')\n",
    "plt.fill_between(test.index, conf_int.iloc[:, 0], conf_int.iloc[:, 1],\n",
    "                 color='pink', alpha=0.3)\n",
    "plt.legend()\n",
    "plt.show()\n"
   ]
  },
  {
   "cell_type": "code",
   "execution_count": null,
   "metadata": {},
   "outputs": [],
   "source": [
    "# Calculate the error metrics\n",
    "mae = mean_absolute_error(test['Total (grid load) [MWh]'], predictions)\n",
    "rmse = np.sqrt(mean_squared_error(test['Total (grid load) [MWh]'], predictions))\n",
    "print(f\"MAE: {mae}, RMSE: {rmse}\")\n"
   ]
  }
 ],
 "metadata": {
  "kernelspec": {
   "display_name": "BetterSave",
   "language": "python",
   "name": "python3"
  },
  "language_info": {
   "name": "python",
   "version": "3.10.6"
  }
 },
 "nbformat": 4,
 "nbformat_minor": 2
}
