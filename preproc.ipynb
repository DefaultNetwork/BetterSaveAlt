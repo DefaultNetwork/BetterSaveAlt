{
 "cells": [
  {
   "cell_type": "code",
   "execution_count": null,
   "metadata": {},
   "outputs": [],
   "source": [
    "import pandas as pd\n",
    "import matplotlib.pyplot as plt\n",
    "\n",
    "# Assuming your CSV file is named 'energy_data.csv'\n",
    "df = pd.read_csv('energy_data.csv', parse_dates=['Start date'])\n",
    "df.set_index('Start date', inplace=True)\n",
    "print(df.head())\n",
    "print(df.info())\n"
   ]
  },
  {
   "cell_type": "code",
   "execution_count": null,
   "metadata": {},
   "outputs": [],
   "source": [
    "plt.figure(figsize=(12,6))\n",
    "plt.plot(df['Total (grid load) [MWh]'], label='Total Grid Load')\n",
    "plt.title(\"Total Grid Load Over Time\")\n",
    "plt.xlabel(\"Date\")\n",
    "plt.ylabel(\"MWh\")\n",
    "plt.legend()\n",
    "plt.show()\n"
   ]
  },
  {
   "cell_type": "code",
   "execution_count": null,
   "metadata": {},
   "outputs": [],
   "source": [
    "from statsmodels.tsa.stattools import adfuller\n",
    "\n",
    "result = adfuller(df['Total (grid load) [MWh]'])\n",
    "print(f\"ADF Statistic: {result[0]}\")\n",
    "print(f\"p-value: {result[1]}\")\n"
   ]
  },
  {
   "cell_type": "code",
   "execution_count": null,
   "metadata": {},
   "outputs": [],
   "source": [
    "import numpy as np\n",
    "\n",
    "# Example: Log transform (if variance is not constant)\n",
    "df['log_total'] = np.log(df['Total (grid load) [MWh]'])\n"
   ]
  }
 ],
 "metadata": {
  "kernelspec": {
   "display_name": "BetterSave",
   "language": "python",
   "name": "python3"
  },
  "language_info": {
   "name": "python",
   "version": "3.10.6"
  }
 },
 "nbformat": 4,
 "nbformat_minor": 2
}
